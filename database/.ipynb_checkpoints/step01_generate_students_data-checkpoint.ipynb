{
 "cells": [
  {
   "cell_type": "code",
   "execution_count": 53,
   "id": "48ec555e-71f4-4524-91bf-8a13ae360f78",
   "metadata": {},
   "outputs": [
    {
     "name": "stdout",
     "output_type": "stream",
     "text": [
      "Requirement already satisfied: faker in c:\\users\\hp\\anaconda3\\lib\\site-packages (37.4.0)\n",
      "Requirement already satisfied: tzdata in c:\\users\\hp\\anaconda3\\lib\\site-packages (from faker) (2023.3)\n",
      "Requirement already satisfied: mysql-connector-python in c:\\users\\hp\\anaconda3\\lib\\site-packages (9.3.0)\n"
     ]
    }
   ],
   "source": [
    "#Installing the required libraries\n",
    "!pip install faker\n",
    "!pip install mysql-connector-python"
   ]
  },
  {
   "cell_type": "code",
   "execution_count": 54,
   "id": "ab53eacd-7106-4fc6-97d4-72d749f0e61b",
   "metadata": {},
   "outputs": [],
   "source": [
    "#Import python modules\n",
    "from faker import Faker\n",
    "import mysql.connector\n",
    "import random"
   ]
  },
  {
   "cell_type": "code",
   "execution_count": 55,
   "id": "e04ffb30-12a4-4f63-ab6c-ef2318b77f6f",
   "metadata": {},
   "outputs": [
    {
     "name": "stdout",
     "output_type": "stream",
     "text": [
      "Connected to MySQL server successfully\n"
     ]
    }
   ],
   "source": [
    "#Establish MySQL Server Connection\n",
    "import mysql.connector\n",
    "from mysql.connector import Error\n",
    "\n",
    "try:\n",
    "    connection=mysql.connector.connect(\n",
    "        host='127.0.0.1',\n",
    "        user='root',\n",
    "        password='Shubhi@28'\n",
    "    )\n",
    "    #Check if the connection is successful\n",
    "    if connection.is_connected():\n",
    "        print(\"Connected to MySQL server successfully\")\n",
    "        \n",
    "#Catch and display any connection error        \n",
    "except Error as e:\n",
    "    print(\"Error while connecting to MySQL: \",e)"
   ]
  },
  {
   "cell_type": "code",
   "execution_count": 59,
   "id": "772effea-92f2-44f0-bb60-189beb25bb0a",
   "metadata": {},
   "outputs": [
    {
     "name": "stdout",
     "output_type": "stream",
     "text": [
      "Database Placement_Project is now ready\n"
     ]
    }
   ],
   "source": [
    "#Create cursor to execute SQL commands\n",
    "cursor = connection.cursor()\n",
    "\n",
    "cursor.execute(\"DROP DATABASE IF EXISTS Placement_Project;\")\n",
    "\n",
    "#Create Database Placement_Project\n",
    "cursor.execute(\"CREATE DATABASE IF NOT EXISTS Placement_Project;\")\n",
    "print(\"Database Placement_Project is now ready\")"
   ]
  },
  {
   "cell_type": "code",
   "execution_count": 61,
   "id": "6b1c909d-10c1-49ed-b5fa-26b49e3a0c72",
   "metadata": {},
   "outputs": [
    {
     "name": "stdout",
     "output_type": "stream",
     "text": [
      "Using the database: Placement_project\n"
     ]
    }
   ],
   "source": [
    "#Select the database Placement_Project to work with it\n",
    "connection.database='Placement_Project'\n",
    "print(\"Using the database: Placement_project\")"
   ]
  },
  {
   "cell_type": "code",
   "execution_count": 63,
   "id": "4ce61494-18c4-4fd5-a26f-67f3edc61015",
   "metadata": {},
   "outputs": [
    {
     "name": "stdout",
     "output_type": "stream",
     "text": [
      "Table Students created successfully\n"
     ]
    }
   ],
   "source": [
    "#Step 1A: Creating the Students Table\n",
    "\n",
    "#Create a new cursor to execute SQL Queries\n",
    "cursor=connection.cursor()\n",
    "\n",
    "#SQL command to create the Students Table\n",
    "cursor.execute(\"\"\"\n",
    "CREATE TABLE IF NOT EXISTS Students (\n",
    "     student_id INT AUTO_INCREMENT PRIMARY KEY,\n",
    "     full_name VARCHAR(100),\n",
    "     age INT,\n",
    "     email VARCHAR(100),\n",
    "     phone VARCHAR(15),\n",
    "     gender ENUM('Male', 'Female', 'Other'),\n",
    "     city VARCHAR(50),\n",
    "     state VARCHAR(50),\n",
    "     enrollment_date DATE\n",
    "     );\n",
    "     \"\"\")\n",
    "\n",
    "print(\"Table Students created successfully\")"
   ]
  },
  {
   "cell_type": "code",
   "execution_count": 65,
   "id": "ea49fc97-efd6-4e4c-9a13-231cabd9199e",
   "metadata": {},
   "outputs": [
    {
     "name": "stdout",
     "output_type": "stream",
     "text": [
      "Students table updated successfully\n"
     ]
    }
   ],
   "source": [
    "#Create a new cursor to execute SQL commands\n",
    "cursor=connection.cursor()\n",
    "\n",
    "\n",
    "#Alter the existing students table to add new columns\n",
    "alter_query = \"\"\"\n",
    "ALTER TABLE Students\n",
    "ADD COLUMN enrollment_year INT AFTER state,\n",
    "ADD COLUMN course_batch VARCHAR(50) AFTER enrollment_year,\n",
    "ADD COLUMN graduation_year INT AFTER course_batch;\n",
    "\"\"\"\n",
    "\n",
    "try:\n",
    "    cursor.execute(alter_query)\n",
    "    connection.commit()\n",
    "    print(\"Students table updated successfully\")\n",
    "\n",
    "except Error as e:\n",
    "    print(\"Error occured while altering table\",e)"
   ]
  },
  {
   "cell_type": "code",
   "execution_count": 67,
   "id": "9cf75b4f-8101-4582-b52f-03f54263a5cc",
   "metadata": {},
   "outputs": [
    {
     "name": "stdout",
     "output_type": "stream",
     "text": [
      "student_id\n",
      "full_name\n",
      "age\n",
      "email\n",
      "phone\n",
      "gender\n",
      "city\n",
      "state\n",
      "enrollment_year\n",
      "course_batch\n",
      "graduation_year\n",
      "enrollment_date\n"
     ]
    }
   ],
   "source": [
    "cursor.execute(\"SHOW COLUMNS FROM Students\")\n",
    "columns = cursor.fetchall()\n",
    "\n",
    "for col in columns:\n",
    "    print(col[0])\n"
   ]
  },
  {
   "cell_type": "code",
   "execution_count": 69,
   "id": "01dca99b-fe23-44d7-9642-d6ad4fe7130f",
   "metadata": {},
   "outputs": [
    {
     "name": "stdout",
     "output_type": "stream",
     "text": [
      "10 fake students records inserted successfully\n"
     ]
    }
   ],
   "source": [
    "#Step 1B: Inserting the fake students records into the Students table\n",
    "from faker import Faker\n",
    "import random\n",
    "\n",
    "#Initialize the Fake generator\n",
    "fake= Faker()\n",
    "\n",
    "#Create a loop to generate 10 fake students records\n",
    "for i in range(10):\n",
    "    full_name=fake.name()\n",
    "    age=random.randint(18,25)\n",
    "    email=fake.email()\n",
    "    phone=fake.msisdn()[:10]\n",
    "    gender=random.choice(['Male','Female','Other'])\n",
    "    city=fake.city()\n",
    "    state=fake.state()\n",
    "\n",
    "\n",
    "    #SQL insert command\n",
    "    insert_query=\"\"\"\n",
    "       INSERT INTO Students(full_name, age, email, phone, gender, city, state)\n",
    "       VALUES (%s, %s, %s, %s, %s, %s, %s)\n",
    "       \"\"\"\n",
    "\n",
    "    values=(full_name,age,email,phone,gender,city,state)\n",
    "\n",
    "#Executing the command\n",
    "    cursor.execute(insert_query,values)\n",
    "\n",
    "#Commit the changes to the database\n",
    "connection.commit()\n",
    "\n",
    "print(\"10 fake students records inserted successfully\")"
   ]
  },
  {
   "cell_type": "code",
   "execution_count": 71,
   "id": "33451123-84fc-4bca-9c0a-cb95d0addea3",
   "metadata": {},
   "outputs": [
    {
     "name": "stdout",
     "output_type": "stream",
     "text": [
      "Updated the students table\n"
     ]
    }
   ],
   "source": [
    "cursor=connection.cursor()\n",
    "\n",
    "#Fetch all student_ids\n",
    "cursor.execute(\"SELECT student_id FROM Students;\")\n",
    "student_ids = cursor.fetchall()\n",
    "\n",
    "#Update each student with enrollment_year, course_batch, graduation_year\n",
    "for student_id_tuple in student_ids:\n",
    "    student_id = student_id_tuple[0]\n",
    "\n",
    "    enrollment_year = random.choice(['2018','2019','2020','2021','2022'])\n",
    "    course_batch = random.choice(['Course A', 'Course B', 'Course C', 'Course D'])\n",
    "    graduation_year = int(enrollment_year)+3\n",
    "\n",
    "\n",
    "    update_query=\"\"\"\n",
    "    UPDATE Students\n",
    "    SET enrollment_year = %s,\n",
    "        course_batch = %s,\n",
    "        graduation_year = %s\n",
    "    WHERE student_id = %s\n",
    "    \"\"\"\n",
    "\n",
    "    cursor.execute(update_query, (enrollment_year, course_batch, graduation_year, student_id))\n",
    "\n",
    "connection.commit()\n",
    "\n",
    "print(\"Updated the students table\")"
   ]
  },
  {
   "cell_type": "code",
   "execution_count": 73,
   "id": "1407ebc8-7f00-4fde-906c-62df54efd771",
   "metadata": {},
   "outputs": [
    {
     "name": "stdout",
     "output_type": "stream",
     "text": [
      "(1, 'Mr. Victor Coleman', 21, 'jesuscarr@example.net', '6865835202', 'Female', 'Port Kathryn', 'Massachusetts', 2019, 'Course D', 2022, None)\n",
      "(2, 'Matthew Ferguson', 25, 'porteraaron@example.com', '3803755049', 'Male', 'North Colleenborough', 'Nevada', 2018, 'Course D', 2021, None)\n",
      "(3, 'Courtney Yang', 20, 'crystal52@example.com', '2663748685', 'Male', 'West Sherrystad', 'South Carolina', 2019, 'Course B', 2022, None)\n",
      "(4, 'Timothy Campbell', 24, 'qsmith@example.com', '5520519514', 'Female', 'Vasquezview', 'New Jersey', 2020, 'Course B', 2023, None)\n",
      "(5, 'John Johnson', 19, 'gomezmichael@example.net', '8668869425', 'Male', 'East Georgeborough', 'South Carolina', 2019, 'Course D', 2022, None)\n",
      "(6, 'James Sims', 23, 'cassandrawilliams@example.net', '9741167504', 'Female', 'Hernandezville', 'Texas', 2018, 'Course C', 2021, None)\n",
      "(7, 'Danielle Greer', 19, 'robert87@example.org', '7895256496', 'Female', 'Tuckershire', 'Michigan', 2018, 'Course A', 2021, None)\n",
      "(8, 'Mr. Jerry Lawrence', 25, 'sheltoncurtis@example.com', '0921269677', 'Other', 'Devinton', 'Oklahoma', 2022, 'Course C', 2025, None)\n",
      "(9, 'Jennifer Martin', 25, 'amanda98@example.com', '7239668887', 'Other', 'Katherinestad', 'Maryland', 2018, 'Course A', 2021, None)\n",
      "(10, 'Amy Sutton', 20, 'sturner@example.net', '0982686313', 'Female', 'Jordanshire', 'Nevada', 2022, 'Course B', 2025, None)\n"
     ]
    }
   ],
   "source": [
    "#Optional step --> verify all the data using SQL queries\n",
    "cursor.execute(\"SELECT * FROM Students\")\n",
    "rows = cursor.fetchall()\n",
    "for row in rows:\n",
    "    print(row)"
   ]
  },
  {
   "cell_type": "code",
   "execution_count": 75,
   "id": "2b77b03a-e65b-4734-96e5-bbd58e2afc4f",
   "metadata": {},
   "outputs": [
    {
     "name": "stdout",
     "output_type": "stream",
     "text": [
      "Programming table created successfully\n"
     ]
    }
   ],
   "source": [
    "#Step 2A: Create Programming table\n",
    "cursor.execute(\"\"\"\n",
    "CREATE TABLE IF NOT EXISTS Programming (\n",
    "     Programming_id INT AUTO_INCREMENT PRIMARY KEY,\n",
    "     student_id INT,\n",
    "     language VARCHAR(50),\n",
    "     problems_solved INT,\n",
    "     assessments_completed INT,\n",
    "     mini_projects INT,\n",
    "     certifications_earned INT,\n",
    "     latest_project_score FLOAT,\n",
    "     FOREIGN KEY (student_id) REFERENCES Students(student_id)\n",
    "     )\"\"\"\n",
    "              )\n",
    "\n",
    "connection.commit()\n",
    "print(\"Programming table created successfully\")"
   ]
  },
  {
   "cell_type": "code",
   "execution_count": 77,
   "id": "e03e05d3-0319-486c-9b08-7f59bc410aa9",
   "metadata": {},
   "outputs": [
    {
     "name": "stdout",
     "output_type": "stream",
     "text": [
      "Fake programming data inserted successfully using faker\n"
     ]
    }
   ],
   "source": [
    "#Step 2B: Inserting fake programming data using faker\n",
    "from faker import Faker\n",
    "fake=Faker()\n",
    "\n",
    "cursor=connection.cursor()\n",
    "#Retrieve all student_id from Students table\n",
    "cursor.execute(\"SELECT student_id FROM Students\")\n",
    "student_ids=cursor.fetchall()\n",
    "\n",
    "#Loop through each student_id and insert fake programming data\n",
    "for student_id_tuple in student_ids:\n",
    "    #Extract the student_id\n",
    "    student_id = student_id_tuple[0]\n",
    "\n",
    "    #Generating fake programming table data using faker\n",
    "    language=fake.random_element(elements=('Python','C++','Java','SQL','JavaScript'))\n",
    "    problems_solved=fake.random_int(min=20,max=200)\n",
    "    assessments_completed=fake.random_int(min=1,max=50)\n",
    "    mini_projects=fake.random_int(min=1,max=5)\n",
    "    certifications_earned=fake.random_int(min=0,max=10)\n",
    "    latest_project_score=fake.pyfloat(\n",
    "        left_digits=2, right_digits=2, positive=True,\n",
    "        min_value=50.0, max_value=100.0\n",
    "    )\n",
    "\n",
    "\n",
    "#SQL insert command\n",
    "    insert_query=\"\"\"\n",
    "    INSERT INTO Programming(\n",
    "        student_id,language,problems_solved,assessments_completed,\n",
    "        mini_projects,certifications_earned,latest_project_score\n",
    "        ) VALUES (%s, %s, %s, %s, %s, %s, %s)\n",
    "        \"\"\"\n",
    "\n",
    "    values=(student_id,language,problems_solved,assessments_completed,\n",
    "        mini_projects,certifications_earned,latest_project_score)\n",
    "\n",
    "    cursor.execute(insert_query,values)\n",
    "\n",
    "#Save all changes\n",
    "connection.commit()\n",
    "print(\"Fake programming data inserted successfully using faker\")"
   ]
  },
  {
   "cell_type": "code",
   "execution_count": 79,
   "id": "31a061c8-bfdb-424e-b649-d04c34695480",
   "metadata": {},
   "outputs": [
    {
     "name": "stdout",
     "output_type": "stream",
     "text": [
      "(1, 1, 'SQL', 150, 19, 3, 6, 82.31)\n",
      "(2, 2, 'SQL', 49, 23, 1, 8, 50.94)\n",
      "(3, 3, 'Java', 127, 37, 5, 5, 62.95)\n",
      "(4, 4, 'Java', 120, 22, 3, 0, 55.47)\n",
      "(5, 5, 'C++', 92, 6, 3, 2, 71.18)\n",
      "(6, 6, 'Python', 62, 30, 4, 3, 56.87)\n",
      "(7, 7, 'Java', 138, 18, 1, 1, 58.2)\n",
      "(8, 8, 'SQL', 73, 34, 3, 0, 89.83)\n",
      "(9, 9, 'JavaScript', 93, 44, 3, 3, 50.14)\n",
      "(10, 10, 'C++', 118, 25, 3, 4, 78.13)\n"
     ]
    }
   ],
   "source": [
    "#Optional --> to verify programming table data\n",
    "cursor.execute(\"SELECT * FROM Programming\")\n",
    "rows = cursor.fetchall()\n",
    "for row in rows:\n",
    "    print(row)"
   ]
  },
  {
   "cell_type": "code",
   "execution_count": 81,
   "id": "3c8763c4-9e45-4234-a04b-89f956fdb4c5",
   "metadata": {},
   "outputs": [
    {
     "name": "stdout",
     "output_type": "stream",
     "text": [
      "Soft Skills table created successfully\n"
     ]
    }
   ],
   "source": [
    "#Step 3A: Creating the Soft Skills table\n",
    "cursor=connection.cursor()\n",
    "\n",
    "cursor.execute(\"\"\"\n",
    "CREATE TABLE IF NOT EXISTS Soft_skills(\n",
    "    soft_skill_id INT AUTO_INCREMENT PRIMARY KEY,\n",
    "    student_id INT,\n",
    "    communication INT,\n",
    "    teamwork INT,\n",
    "    presentation INT,\n",
    "    leadership INT,\n",
    "    critical_thinking INT,\n",
    "    interpersonal_skills INT,\n",
    "    FOREIGN KEY (student_id) REFERENCES Students(student_id)\n",
    "    )\"\"\"\n",
    "              )\n",
    "\n",
    "print(\"Soft Skills table created successfully\")"
   ]
  },
  {
   "cell_type": "code",
   "execution_count": 83,
   "id": "4e1686ea-45d4-4229-bacc-562ad9a66fdc",
   "metadata": {},
   "outputs": [
    {
     "name": "stdout",
     "output_type": "stream",
     "text": [
      "✅ Soft_skills table cleared\n"
     ]
    }
   ],
   "source": [
    "cursor.execute(\"DELETE FROM Soft_skills\")\n",
    "connection.commit()\n",
    "print(\"✅ Soft_skills table cleared\")"
   ]
  },
  {
   "cell_type": "code",
   "execution_count": 85,
   "id": "9aca5225-b3eb-40c9-970e-c29f54f53c66",
   "metadata": {},
   "outputs": [
    {
     "name": "stdout",
     "output_type": "stream",
     "text": [
      "Soft Skills data inserted using Faker\n"
     ]
    }
   ],
   "source": [
    "#Step 3B: Inserting fake Soft skills data using faker\n",
    "from faker import Faker\n",
    "\n",
    "#Initialize Faker\n",
    "fake=Faker()\n",
    "\n",
    "#Get all student_ids from the Students table\n",
    "cursor=connection.cursor()\n",
    "cursor.execute(\"SELECT student_id FROM Students;\")\n",
    "student_ids=cursor.fetchall()\n",
    "\n",
    "#Loop through each student_id and insert the data into Soft skills table\n",
    "for student_id_tuple in student_ids:\n",
    "    student_id=student_id_tuple[0]\n",
    "\n",
    "    #Generate soft skills scores using faker(out of 100)\n",
    "    communication=fake.pyint(min_value=0,max_value=100)\n",
    "    teamwork=fake.pyint(min_value=0,max_value=100)\n",
    "    presentation=fake.pyint(min_value=0,max_value=100)\n",
    "    leadership=fake.pyint(min_value=0,max_value=100)\n",
    "    critical_thinking=fake.pyint(min_value=0,max_value=100)\n",
    "    interpersonal_skills=fake.pyint(min_value=0,max_value=100)\n",
    "\n",
    "\n",
    "    #SQL Insert command\n",
    "    insert_query=\"\"\"\n",
    "    INSERT INTO Soft_skills(\n",
    "        student_id,communication,teamwork,presentation,\n",
    "        leadership,critical_thinking,interpersonal_skills\n",
    "    ) VALUES(%s,%s,%s,%s,%s,%s,%s)\n",
    "    \"\"\"\n",
    "\n",
    "    values=(\n",
    "        student_id,communication,teamwork,presentation,\n",
    "        leadership,critical_thinking,interpersonal_skills\n",
    "    )\n",
    "\n",
    "    #Execute and insert into table\n",
    "    cursor.execute(insert_query,values)\n",
    "\n",
    "#Saving all the changes\n",
    "connection.commit()\n",
    "print(\"Soft Skills data inserted using Faker\")"
   ]
  },
  {
   "cell_type": "code",
   "execution_count": 87,
   "id": "63cbc314-c5bb-40cb-9248-fb330924c890",
   "metadata": {},
   "outputs": [
    {
     "name": "stdout",
     "output_type": "stream",
     "text": [
      "(1, 1, 28, 99, 25, 46, 93, 34)\n",
      "(2, 2, 90, 2, 83, 85, 86, 23)\n",
      "(3, 3, 27, 15, 16, 88, 41, 78)\n",
      "(4, 4, 78, 42, 35, 81, 39, 88)\n",
      "(5, 5, 73, 82, 39, 58, 52, 10)\n",
      "(6, 6, 96, 25, 11, 71, 91, 27)\n",
      "(7, 7, 70, 17, 48, 84, 1, 21)\n",
      "(8, 8, 44, 31, 93, 41, 24, 72)\n",
      "(9, 9, 48, 19, 63, 85, 20, 32)\n",
      "(10, 10, 18, 72, 4, 80, 88, 85)\n"
     ]
    }
   ],
   "source": [
    "#Optional --> to verify soft skills table data\n",
    "cursor.execute(\"SELECT * FROM Soft_skills\")\n",
    "rows = cursor.fetchall()\n",
    "for row in rows:\n",
    "    print(row)"
   ]
  },
  {
   "cell_type": "code",
   "execution_count": 89,
   "id": "d99baa4b-9abc-42c9-9968-ab6f4759491d",
   "metadata": {},
   "outputs": [
    {
     "name": "stdout",
     "output_type": "stream",
     "text": [
      "Placements table created successfully\n"
     ]
    }
   ],
   "source": [
    "#Step 4A: Creating the placements table\n",
    "cursor=connection.cursor()\n",
    "\n",
    "cursor.execute(\"\"\"\n",
    "CREATE TABLE IF NOT EXISTS Placements(\n",
    "   Placement_id INT AUTO_INCREMENT PRIMARY KEY,\n",
    "   student_id INT,\n",
    "   mock_interview_score INT,\n",
    "   internships_completed INT,\n",
    "   placement_status ENUM('Ready','Not Ready','Placed'),\n",
    "   company_name VARCHAR(100),\n",
    "   placement_package FLOAT,\n",
    "   interview_rounds_cleared INT,\n",
    "   placement_date DATE,\n",
    "   FOREIGN KEY (student_id) REFERENCES Students(student_id)\n",
    "   )\n",
    "   \"\"\")\n",
    "\n",
    "#Commiting the changes\n",
    "connection.commit()\n",
    "\n",
    "print(\"Placements table created successfully\")"
   ]
  },
  {
   "cell_type": "code",
   "execution_count": 91,
   "id": "b8403bf4-8028-4ad7-b0f5-332440bab44c",
   "metadata": {},
   "outputs": [
    {
     "name": "stdout",
     "output_type": "stream",
     "text": [
      "Placement data inserted for all students using Faker\n"
     ]
    }
   ],
   "source": [
    "#STEP 4B:Insering fake data into the Placements table using faker\n",
    "from faker import Faker\n",
    "\n",
    "#Initializing Faker\n",
    "fake=Faker()\n",
    "\n",
    "#Getting all the students ids from the Students table\n",
    "cursor=connection.cursor()\n",
    "cursor.execute(\"SELECT student_id FROM Students\")\n",
    "student_ids=cursor.fetchall()\n",
    "\n",
    "#Loop through each student_id and insert data into the Placements table\n",
    "for student_id_tuple in student_ids:\n",
    "    student_id=student_id_tuple[0]\n",
    "\n",
    "    #Generate Placements table data using faker\n",
    "    mock_interview_score = fake.pyint(min_value=30,max_value=100)\n",
    "    internships_completed = fake.pyint(min_value=0,max_value=3)\n",
    "    placement_status=fake.random_element(elements=('Ready','Not Ready','Placed'))\n",
    "\n",
    "    #If Placed, generate company name, package, date\n",
    "    if placement_status=='Placed':\n",
    "        company_name=fake.company()\n",
    "        placement_package=round(fake.pyfloat(left_digits=2,right_digits=2,positive=True, min_value=3.0, max_value=20.0),2)\n",
    "        placement_date=fake.date_between(start_date='-1y',end_date='today')\n",
    "\n",
    "    else:\n",
    "        company_name=None\n",
    "        placement_package=None\n",
    "        placement_date=None\n",
    "\n",
    "    interview_rounds_cleared=fake.pyint(min_value=1,max_value=5)\n",
    "    \n",
    "    #SQL INSERT QUERY\n",
    "    insert_query=\"\"\"\n",
    "    INSERT INTO Placements(\n",
    "        student_id, mock_interview_score, internships_completed,\n",
    "        placement_status, company_name, placement_package,\n",
    "        interview_rounds_cleared, placement_date)\n",
    "        VALUES (%s, %s, %s, %s, %s, %s, %s, %s)\n",
    "    \"\"\"\n",
    "\n",
    "    #Values to insert\n",
    "    values=(\n",
    "        student_id, mock_interview_score, internships_completed,\n",
    "        placement_status, company_name, placement_package,\n",
    "        interview_rounds_cleared, placement_date)\n",
    "\n",
    "    #Execute insertion\n",
    "    cursor.execute(insert_query, values)\n",
    "\n",
    "#Commit all the changes to the database\n",
    "connection.commit()\n",
    "\n",
    "print(\"Placement data inserted for all students using Faker\")"
   ]
  },
  {
   "cell_type": "code",
   "execution_count": 93,
   "id": "9898d910-b2d1-4995-b750-645dd71bbb07",
   "metadata": {},
   "outputs": [
    {
     "name": "stdout",
     "output_type": "stream",
     "text": [
      "(1, 1, 54, 1, 'Not Ready', None, None, 1, None)\n",
      "(2, 2, 63, 0, 'Ready', None, None, 3, None)\n",
      "(3, 3, 31, 1, 'Placed', 'Carey-Morgan', 17.4, 2, datetime.date(2024, 8, 18))\n",
      "(4, 4, 43, 0, 'Not Ready', None, None, 1, None)\n",
      "(5, 5, 91, 3, 'Placed', 'Rivera Group', 17.94, 4, datetime.date(2024, 9, 3))\n",
      "(6, 6, 57, 0, 'Placed', 'Arnold-Bennett', 12.95, 2, datetime.date(2024, 7, 13))\n",
      "(7, 7, 38, 3, 'Placed', 'Stephens Inc', 12.24, 2, datetime.date(2025, 4, 25))\n",
      "(8, 8, 91, 3, 'Ready', None, None, 5, None)\n",
      "(9, 9, 72, 2, 'Placed', 'Smith and Sons', 9.12, 3, datetime.date(2024, 10, 1))\n",
      "(10, 10, 52, 2, 'Placed', 'Thomas and Sons', 12.7, 3, datetime.date(2025, 6, 22))\n"
     ]
    }
   ],
   "source": [
    "#Optional step --> verify all the data using SQL queries\n",
    "cursor.execute(\"SELECT * FROM Placements\")\n",
    "rows = cursor.fetchall()\n",
    "for row in rows:\n",
    "    print(row)"
   ]
  },
  {
   "cell_type": "code",
   "execution_count": 95,
   "id": "8258a2ed-0f8f-410a-89dd-a1d6ee31712c",
   "metadata": {},
   "outputs": [
    {
     "name": "stdout",
     "output_type": "stream",
     "text": [
      "C:\\Users\\HP\\Desktop\\placement_app_project\\database\n",
      "Path added for importing modules here\n"
     ]
    }
   ],
   "source": [
    "import sys\n",
    "import os\n",
    "\n",
    "#Confirm current location\n",
    "print(os.getcwd())\n",
    "\n",
    "current_dir=os.getcwd()\n",
    "\n",
    "#Add this folder to python's import path\n",
    "if current_dir not in sys.path:\n",
    "    sys.path.append(current_dir)\n",
    "\n",
    "print(\"Path added for importing modules here\")"
   ]
  },
  {
   "cell_type": "code",
   "execution_count": 97,
   "id": "02542ea8-c639-4124-81a7-67ce8d767cdb",
   "metadata": {},
   "outputs": [
    {
     "name": "stdout",
     "output_type": "stream",
     "text": [
      "Current working directory: C:\\Users\\HP\\Desktop\\placement_app_project\\database\n",
      "\n",
      "Files in this folder:\n",
      "['.ipynb_checkpoints', 'db_manager.py', 'step01_generate_students_data.ipynb', '__pycache__']\n"
     ]
    }
   ],
   "source": [
    "import os\n",
    "\n",
    "print(\"Current working directory:\", os.getcwd())\n",
    "print(\"\\nFiles in this folder:\")\n",
    "print(os.listdir())"
   ]
  },
  {
   "cell_type": "code",
   "execution_count": 99,
   "id": "0aefec1b-b2f0-4cb7-a238-4b682fd0362b",
   "metadata": {},
   "outputs": [],
   "source": [
    "from db_manager import DatabaseManager"
   ]
  },
  {
   "cell_type": "code",
   "execution_count": 101,
   "id": "1948d74a-c662-4f1d-9851-3998c6ffdfbc",
   "metadata": {},
   "outputs": [
    {
     "name": "stdout",
     "output_type": "stream",
     "text": [
      "Connect method completed\n",
      "Connect method completed\n",
      "(1, 'Mr. Victor Coleman', 21, 'jesuscarr@example.net', '6865835202', 'Female', 'Port Kathryn', 'Massachusetts', 2019, 'Course D', 2022, None)\n",
      "(2, 'Matthew Ferguson', 25, 'porteraaron@example.com', '3803755049', 'Male', 'North Colleenborough', 'Nevada', 2018, 'Course D', 2021, None)\n",
      "(3, 'Courtney Yang', 20, 'crystal52@example.com', '2663748685', 'Male', 'West Sherrystad', 'South Carolina', 2019, 'Course B', 2022, None)\n",
      "(4, 'Timothy Campbell', 24, 'qsmith@example.com', '5520519514', 'Female', 'Vasquezview', 'New Jersey', 2020, 'Course B', 2023, None)\n",
      "(5, 'John Johnson', 19, 'gomezmichael@example.net', '8668869425', 'Male', 'East Georgeborough', 'South Carolina', 2019, 'Course D', 2022, None)\n"
     ]
    }
   ],
   "source": [
    "#Step 1: Create an object of this class\n",
    "db = DatabaseManager(\n",
    "    host='127.0.0.1',\n",
    "    user='root',\n",
    "    password='Shubhi@28',\n",
    "    database='Placement_project'\n",
    ")\n",
    "\n",
    "#Step 2: Connect to the database\n",
    "db.connect()\n",
    "\n",
    "#Step 3:RUN a SELECT query\n",
    "rows=db.fetch_query(\"SELECT * FROM Students LIMIT 5\")\n",
    "for row in rows:\n",
    "    print(row)\n",
    "\n",
    "#Step 4:Disconnect the database\n",
    "db.disconnect()"
   ]
  },
  {
   "cell_type": "code",
   "execution_count": 1,
   "id": "d4c77765-8370-4b23-a4ec-13ca0380b1a9",
   "metadata": {},
   "outputs": [
    {
     "name": "stdout",
     "output_type": "stream",
     "text": [
      "Trying to connect...\n",
      "✅ Connected to the database successfully!\n"
     ]
    }
   ],
   "source": [
    "'''\n",
    "import mysql.connector\n",
    "from mysql.connector import Error\n",
    "\n",
    "try:\n",
    "    print(\"Trying to connect...\")\n",
    "\n",
    "    connection = mysql.connector.connect(\n",
    "        host='127.0.0.1',\n",
    "        user='root',\n",
    "        password='Shubhi@28',\n",
    "        database='placement_project'\n",
    "    )\n",
    "\n",
    "    if connection.is_connected():\n",
    "        print(\"✅ Connected to the database successfully!\")\n",
    "        connection.close()\n",
    "except Error as e:\n",
    "    print(f\"❌ Error while connecting: {e}\")\n",
    "'''"
   ]
  },
  {
   "cell_type": "code",
   "execution_count": 103,
   "id": "b10fcf1f-d554-49a7-b1c0-49d24b29ae0a",
   "metadata": {},
   "outputs": [
    {
     "name": "stdout",
     "output_type": "stream",
     "text": [
      "Number of students with placement_status = 'Placed': 6\n"
     ]
    }
   ],
   "source": [
    "# Clear unread results if any (before creating a new cursor or running next query)\n",
    "while cursor.nextset():\n",
    "    cursor.fetchall()\n",
    "# Create a fresh cursor or reuse existing only after clearing previous results\n",
    "cursor = connection.cursor()\n",
    "\n",
    "# Execute query\n",
    "cursor.execute(\"SELECT COUNT(*) FROM Placements WHERE placement_status = 'Placed';\")\n",
    "\n",
    "# Fetch the result (very important to avoid 'Unread result' error)\n",
    "count = cursor.fetchone()[0]\n",
    "\n",
    "print(f\"Number of students with placement_status = 'Placed': {count}\")\n",
    "\n"
   ]
  },
  {
   "cell_type": "code",
   "execution_count": null,
   "id": "5b414dc8-08d0-49ed-abe1-898a302e6eff",
   "metadata": {},
   "outputs": [],
   "source": []
  }
 ],
 "metadata": {
  "kernelspec": {
   "display_name": "Python (Placement Project)",
   "language": "python",
   "name": "placement_env"
  },
  "language_info": {
   "codemirror_mode": {
    "name": "ipython",
    "version": 3
   },
   "file_extension": ".py",
   "mimetype": "text/x-python",
   "name": "python",
   "nbconvert_exporter": "python",
   "pygments_lexer": "ipython3",
   "version": "3.10.18"
  }
 },
 "nbformat": 4,
 "nbformat_minor": 5
}
